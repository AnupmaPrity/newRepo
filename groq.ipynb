{
 "cells": [
  {
   "cell_type": "code",
   "execution_count": 1,
   "id": "cd851af3-938a-46ab-8c1a-12e020341f88",
   "metadata": {},
   "outputs": [
    {
     "name": "stdout",
     "output_type": "stream",
     "text": [
      "Orange is a fruit that is typically round in shape and has a bright orange colored skin. The fruit is juicy and has a segmented interior that is filled with small edible seeds. Oranges are a popular citrus fruit and are known for their tangy, sweet flavor. They are a good source of vitamin C and are often eaten fresh or used in juices, desserts, and other dishes. The color orange is named after the fruit, and is a warm, vibrant hue that is often associated with feelings of happiness and energy.\n"
     ]
    }
   ],
   "source": [
    "from langchain_groq import ChatGroq\n",
    "\n",
    "llm = ChatGroq(\n",
    "    model=\"mixtral-8x7b-32768\",\n",
    "    temperature=0,\n",
    "    groq_api_key=\"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\"\n",
    ")\n",
    "\n",
    "response = llm.invoke(\"what is orange\")\n",
    "print(response.content)"
   ]
  }
 ],
 "metadata": {
  "kernelspec": {
   "display_name": "Python 3 (ipykernel)",
   "language": "python",
   "name": "python3"
  },
  "language_info": {
   "codemirror_mode": {
    "name": "ipython",
    "version": 3
   },
   "file_extension": ".py",
   "mimetype": "text/x-python",
   "name": "python",
   "nbconvert_exporter": "python",
   "pygments_lexer": "ipython3",
   "version": "3.12.6"
  }
 },
 "nbformat": 4,
 "nbformat_minor": 5
}
