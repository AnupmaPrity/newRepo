{
 "cells": [
  {
   "cell_type": "code",
   "execution_count": 30,
   "id": "95da4720-4656-47b6-b738-203d9e2f8a2c",
   "metadata": {},
   "outputs": [],
   "source": [
    "from langchain_groq import ChatGroq"
   ]
  },
  {
   "cell_type": "code",
   "execution_count": 31,
   "id": "dd1c18b0-2ae3-4f71-bce7-47abc779f94f",
   "metadata": {},
   "outputs": [
    {
     "name": "stdout",
     "output_type": "stream",
     "text": [
      "The first person to land on the moon was Neil Armstrong. He stepped onto the lunar surface on July 20, 1969, as part of the Apollo 11 mission.\n"
     ]
    }
   ],
   "source": [
    "llm = ChatGroq(\n",
    "    temperature=0, \n",
    "    groq_api_key='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', \n",
    "    model_name=\"llama-3.1-70b-versatile\"\n",
    ")\n",
    "response = llm.invoke(\"The first person to land on moon was ...\")\n",
    "print(response.content)"
   ]
  },
  {
   "cell_type": "code",
   "execution_count": 32,
   "id": "89b7ccff-cbd6-4fac-9325-20d2a44d6fc5",
   "metadata": {},
   "outputs": [
    {
     "name": "stdout",
     "output_type": "stream",
     "text": [
      "Apply for Software Engineer I\n",
      "\n",
      "Search JobsSkip navigationSearch JobsNIKE, INC. JOBSContract JobsJoin The Talent CommunityLife @ NikeOverviewBenefitsBrandsOverviewJordanConverseTeamsOverviewAdministrative SupportAdvanced InnovationAir Manufacturing InnovationAviationCommunicationsCustomer ServiceDesignDigitalFacilitiesFinance & AccountingGovernment & Public AffairsHuman ResourcesInsights & AnalyticsLegalManufacturing & EngineeringMarketingMerchandisingPlanningPrivacyProcurementProduct Creation, Development & ManagementRetail CorporateRetail StoresSalesSocial & Community ImpactSports MarketingStrategic PlanningSupply Chain, Distribution & LogisticsSustainabilityTechnologyLocationsOverviewNike WHQNike New York HQEHQ: Hilversum, The NetherlandsELC: Laakdal, BelgiumGreater China HQDiversity, Equity & InclusionOverviewMilitary InclusionDisability InclusionIndigenous InclusionInternshipsTechnologySoftware Engineer IBeaverton, OregonBecome a Part of the NIKE, Inc. TeamNIKE, Inc. does more than outfit the world’s best athletes. It is a place to explore potential, obliterate boundaries and push out the edges of what can be. The company looks for people who can grow, think, dream and create. Its culture thrives by embracing diversity and rewarding imagination. The brand seeks achievers, leaders and visionaries. At NIKE, Inc. it’s about each person bringing skills and passion to a challenging and constantly evolving game.NIKE is a technology company. From our flagship website and five-star mobile apps to developing products, managing big data and providing leading edge engineering and systems support, our teams at NIKE Global Technology exist to revolutionize the future at the confluence of tech and sport. We invest and develop advances in technology and employ the most creative people in the world, and then give them the support to constantly innovate, iterate and serve consumers more directly and personally.  Our teams are innovative, diverse, multidisciplinary and collaborative, taking technology into the future and bringing the world with it.Digital Employee Experience Software Engineer IBeaverton, Oregon United StatesWHO WE ARE LOOKING FORThe Digital Employee Experience Software Engineer I will be responsible for design, support, development, and testing of internal employee-facing websites and web applications.WHAT YOU WILL WORK ONDesign and develop technical solutions that meet the needs of the business and aligns with Nike architectural and quality standardsBuild mobile first Front-End applications in a manner visually and culturally consistent with Nike brand using React.js and Redux.Ensure SLAs (Service Level Agreements) for different interfaces are met and test them by executing performance tests using various loads.Provide production support on new and existing applications WHO YOU WILL WORK WITHAs a Software Engineer I You will be working closely with our communication business team and multiple engineering squads to solve a wide range of business and technology related problems, and you will be reporting under Digital Employee Experience Software Engineering Director.WHAT YOU BRINGBachelor’s degree in computer science, Information Systems, Business, or other relevant subject area2+ years of professional experience in application engineering2+ years hands-on experience in JavaScript (Node.js, React.js, Vue.js, etc.)Passionate about engineering, operational excellence, DevOps maturity and enabling the team and dependent teams to diagnose and tackle production issues quicklyFamiliar with agile processes, continuous integration, and test automationAbility to Collaborate on road maps with Product Managers, Architects, and Tech Leads to ensure feasibility and scalability of new features and enhancementsExperience with AWS CloudFront for content delivery and cachingKnowledge of AWS S3 for static website hosting and asset storageFamiliarity with AWS Route 53 for DNS management and understanding of AWS Certificate ManagerProficiency in AWS LambdaExperience with GitHub Co-pilot is an advantageNIKE, Inc. is a growth company that looks for team members to grow with it. Nike offers a generous total rewards package, casual work environment, a diverse and inclusive culture, and an electric atmosphere for professional development. No matter the location, or the role, every Nike employee shares one galvanizing mission: To bring inspiration and innovation to every athlete* in the world.NIKE, Inc. is committed to employing a diverse workforce. Qualified applicants will receive consideration without regard to race, color, religion, sex, national origin, age, sexual orientation, gender identity, gender expression, veteran status, or disability.How We HireAt NIKE, Inc. we promise to provide a premium, inclusive, compelling and authentic candidate experience. Delivering on this promise means we allow you to be at your best — and to do that, you need to understand how the hiring process works. Transparency is key.\n",
      "\n",
      "* This overview explains our hiring process for corporate roles. Note there may be different hiring steps involved for non-corporate roles.Start nowBenefitsWhether it’s transportation or financial health, we continually invest in our employees to help them achieve greatness — inside and outside of work. All who work here should be able to realize their full potential.Employee Assistance ProgramEmployee Stock Purchase Plan (ESPP)HolidaysMedical PlanPaid Time Off (PTO)Product DiscountsSabbaticalsLearn moreFIND A STOREBECOME A MEMBERSIGN UP FOR EMAILSEND US FEEDBACKSTUDENT DISCOUNTSGET HELPGET HELPOrder StatusDeliveryReturnsPayment OptionsContact Us On Nike.com InquiriesContact Us On All Other InquiriesABOUT NIKEABOUT NIKENewsCareersInvestorsSustainabilityIndia© 2024 Nike, Inc. All Rights ReservedGuidesNike AdaptNike Air MaxNike FlyleatherNike PegasusNike Zoom FlyNike AirNike FlyEaseNike FreeNike ReactNike ZoomXNike Air Force 1Nike FlyknitNike JoyrideNike VaporflyTerms of SaleTerms of UseNike Privacy Policy\n"
     ]
    }
   ],
   "source": [
    "from langchain_community.document_loaders import WebBaseLoader\n",
    "\n",
    "loader = WebBaseLoader(\"https://jobs.nike.com/job/R-38844?from=job%20search%20funnel\")\n",
    "page_data = loader.load().pop().page_content\n",
    "print(page_data)"
   ]
  },
  {
   "cell_type": "code",
   "execution_count": 33,
   "id": "08c77c9f-99e7-4b93-b633-b8021e8361b1",
   "metadata": {},
   "outputs": [
    {
     "data": {
      "text/plain": [
       "str"
      ]
     },
     "execution_count": 33,
     "metadata": {},
     "output_type": "execute_result"
    }
   ],
   "source": [
    "from langchain_core.prompts import PromptTemplate\n",
    "\n",
    "prompt_extract = PromptTemplate.from_template(\n",
    "        \"\"\"\n",
    "        ### SCRAPED TEXT FROM WEBSITE:\n",
    "        {page_data}\n",
    "        ### INSTRUCTION:\n",
    "        The scraped text is from the career's page of a website.\n",
    "        Your job is to extract the job postings and return them in JSON format containing the \n",
    "        following keys: `role`, `experience`, `skills` and `description`.\n",
    "        Only return the valid JSON.\n",
    "        ### VALID JSON (NO PREAMBLE):    \n",
    "        \"\"\"\n",
    ")\n",
    "\n",
    "chain_extract = prompt_extract | llm \n",
    "res = chain_extract.invoke(input={'page_data':page_data})\n",
    "type(res.content)"
   ]
  },
  {
   "cell_type": "code",
   "execution_count": 34,
   "id": "c1609118-4d14-43c1-a3d0-5113c7a88168",
   "metadata": {},
   "outputs": [
    {
     "name": "stdout",
     "output_type": "stream",
     "text": [
      "```json\n",
      "{\n",
      "  \"role\": \"Software Engineer I\",\n",
      "  \"experience\": \"2+ years of professional experience in application engineering\",\n",
      "  \"skills\": [\n",
      "    \"JavaScript (Node.js, React.js, Vue.js, etc.)\",\n",
      "    \"Agile processes\",\n",
      "    \"Continuous integration\",\n",
      "    \"Test automation\",\n",
      "    \"AWS CloudFront\",\n",
      "    \"AWS S3\",\n",
      "    \"AWS Route 53\",\n",
      "    \"AWS Certificate Manager\",\n",
      "    \"AWS Lambda\",\n",
      "    \"GitHub Co-pilot\"\n",
      "  ],\n",
      "  \"description\": \"The Digital Employee Experience Software Engineer I will be responsible for design, support, development, and testing of internal employee-facing websites and web applications.\"\n",
      "}\n",
      "```\n"
     ]
    }
   ],
   "source": [
    "print(res.content)"
   ]
  },
  {
   "cell_type": "code",
   "execution_count": 11,
   "id": "6beea905-6fcf-4638-8c14-ac7a1a3492a2",
   "metadata": {},
   "outputs": [
    {
     "data": {
      "text/plain": [
       "{'role': 'Software Engineer I',\n",
       " 'experience': '2+ years of professional experience in application engineering',\n",
       " 'skills': ['JavaScript (Node.js, React.js, Vue.js, etc.)',\n",
       "  'Agile processes',\n",
       "  'Continuous integration',\n",
       "  'Test automation',\n",
       "  'AWS CloudFront',\n",
       "  'AWS S3',\n",
       "  'AWS Route 53',\n",
       "  'AWS Certificate Manager',\n",
       "  'AWS Lambda',\n",
       "  'GitHub Co-pilot'],\n",
       " 'description': 'The Digital Employee Experience Software Engineer I will be responsible for design, support, development, and testing of internal employee-facing websites and web applications.'}"
      ]
     },
     "execution_count": 11,
     "metadata": {},
     "output_type": "execute_result"
    }
   ],
   "source": [
    "from langchain_core.output_parsers import JsonOutputParser\n",
    "\n",
    "json_parser = JsonOutputParser()\n",
    "json_res = json_parser.parse(res.content)\n",
    "json_res"
   ]
  },
  {
   "cell_type": "code",
   "execution_count": 12,
   "id": "afd09835-3267-4650-9fc4-c101916c1fde",
   "metadata": {},
   "outputs": [
    {
     "data": {
      "text/plain": [
       "dict"
      ]
     },
     "execution_count": 12,
     "metadata": {},
     "output_type": "execute_result"
    }
   ],
   "source": [
    "type(json_res)"
   ]
  },
  {
   "cell_type": "code",
   "execution_count": 16,
   "id": "18da0a96-f3d7-4a85-b3e2-a1feb85d68d5",
   "metadata": {},
   "outputs": [
    {
     "data": {
      "text/html": [
       "<div>\n",
       "<style scoped>\n",
       "    .dataframe tbody tr th:only-of-type {\n",
       "        vertical-align: middle;\n",
       "    }\n",
       "\n",
       "    .dataframe tbody tr th {\n",
       "        vertical-align: top;\n",
       "    }\n",
       "\n",
       "    .dataframe thead th {\n",
       "        text-align: right;\n",
       "    }\n",
       "</style>\n",
       "<table border=\"1\" class=\"dataframe\">\n",
       "  <thead>\n",
       "    <tr style=\"text-align: right;\">\n",
       "      <th></th>\n",
       "      <th>Techstack</th>\n",
       "      <th>Links</th>\n",
       "    </tr>\n",
       "  </thead>\n",
       "  <tbody>\n",
       "    <tr>\n",
       "      <th>0</th>\n",
       "      <td>AI and ML</td>\n",
       "      <td>https://www.virtusa.com/services/engineer-auto...</td>\n",
       "    </tr>\n",
       "    <tr>\n",
       "      <th>1</th>\n",
       "      <td>Application Development</td>\n",
       "      <td>https://www.virtusa.com/services/engineer-auto...</td>\n",
       "    </tr>\n",
       "    <tr>\n",
       "      <th>2</th>\n",
       "      <td>API and Micro-services</td>\n",
       "      <td>https://www.virtusa.com/services/engineer-auto...</td>\n",
       "    </tr>\n",
       "    <tr>\n",
       "      <th>3</th>\n",
       "      <td>Frontend Engineering</td>\n",
       "      <td>https://www.virtusa.com/services/engineer-auto...</td>\n",
       "    </tr>\n",
       "    <tr>\n",
       "      <th>4</th>\n",
       "      <td>cloud</td>\n",
       "      <td>https://www.virtusa.com/services/engineer-auto...</td>\n",
       "    </tr>\n",
       "    <tr>\n",
       "      <th>5</th>\n",
       "      <td>Data Engineering</td>\n",
       "      <td>https://www.virtusa.com/services/engineer-auto...</td>\n",
       "    </tr>\n",
       "    <tr>\n",
       "      <th>6</th>\n",
       "      <td>DEVOPS AND SECOPS</td>\n",
       "      <td>https://virtusa.com/services/engineer-automate...</td>\n",
       "    </tr>\n",
       "    <tr>\n",
       "      <th>7</th>\n",
       "      <td>Analytics</td>\n",
       "      <td>https://www.virtusa.com/services/analyze-and-o...</td>\n",
       "    </tr>\n",
       "    <tr>\n",
       "      <th>8</th>\n",
       "      <td>BlockChain</td>\n",
       "      <td>https://www.virtusa.com/services/engineer-auto...</td>\n",
       "    </tr>\n",
       "    <tr>\n",
       "      <th>9</th>\n",
       "      <td>Generative AI</td>\n",
       "      <td>https://www.virtusa.com/services/engineer-auto...</td>\n",
       "    </tr>\n",
       "    <tr>\n",
       "      <th>10</th>\n",
       "      <td>Salesforce</td>\n",
       "      <td>https://www.virtusa.com/services/engineer-auto...</td>\n",
       "    </tr>\n",
       "    <tr>\n",
       "      <th>11</th>\n",
       "      <td>PEGA</td>\n",
       "      <td>https://www.virtusa.com/services/engineer-auto...</td>\n",
       "    </tr>\n",
       "    <tr>\n",
       "      <th>12</th>\n",
       "      <td>SAP</td>\n",
       "      <td>https://www.virtusa.com/services/engineer-auto...</td>\n",
       "    </tr>\n",
       "    <tr>\n",
       "      <th>13</th>\n",
       "      <td>DesignOps</td>\n",
       "      <td>https://www.virtusa.com/services/consult-and-d...</td>\n",
       "    </tr>\n",
       "  </tbody>\n",
       "</table>\n",
       "</div>"
      ],
      "text/plain": [
       "                  Techstack                                              Links\n",
       "0                 AI and ML  https://www.virtusa.com/services/engineer-auto...\n",
       "1   Application Development  https://www.virtusa.com/services/engineer-auto...\n",
       "2    API and Micro-services  https://www.virtusa.com/services/engineer-auto...\n",
       "3      Frontend Engineering  https://www.virtusa.com/services/engineer-auto...\n",
       "4                     cloud  https://www.virtusa.com/services/engineer-auto...\n",
       "5          Data Engineering  https://www.virtusa.com/services/engineer-auto...\n",
       "6         DEVOPS AND SECOPS  https://virtusa.com/services/engineer-automate...\n",
       "7                 Analytics  https://www.virtusa.com/services/analyze-and-o...\n",
       "8                BlockChain  https://www.virtusa.com/services/engineer-auto...\n",
       "9             Generative AI  https://www.virtusa.com/services/engineer-auto...\n",
       "10               Salesforce  https://www.virtusa.com/services/engineer-auto...\n",
       "11                     PEGA  https://www.virtusa.com/services/engineer-auto...\n",
       "12                      SAP  https://www.virtusa.com/services/engineer-auto...\n",
       "13                DesignOps  https://www.virtusa.com/services/consult-and-d..."
      ]
     },
     "execution_count": 16,
     "metadata": {},
     "output_type": "execute_result"
    }
   ],
   "source": [
    "import pandas as pd\n",
    "\n",
    "df = pd.read_csv(\"my_portfolio.csv\")\n",
    "df"
   ]
  },
  {
   "cell_type": "code",
   "execution_count": 22,
   "id": "96c568b7-f835-4c1b-92a3-980abdb940f0",
   "metadata": {},
   "outputs": [],
   "source": [
    "import uuid\n",
    "import chromadb\n",
    "\n",
    "client = chromadb.PersistentClient('vectorstore')\n",
    "collection = client.get_or_create_collection(name=\"portfolio\")\n",
    "\n",
    "if not collection.count():\n",
    "    for _, row in df.iterrows():\n",
    "        collection.add(documents=row[\"Techstack\"],\n",
    "                       metadatas={\"links\": row[\"Links\"]},\n",
    "                       ids=[str(uuid.uuid4())])"
   ]
  },
  {
   "cell_type": "code",
   "execution_count": 38,
   "id": "eda4e911-23c5-404a-9d23-14ac73961d31",
   "metadata": {},
   "outputs": [
    {
     "data": {
      "text/plain": [
       "[[{'links': 'https://www.virtusa.com/services/engineer-automate/application-engineering/frontend-engineering'},\n",
       "  {'links': 'https://www.virtusa.com/services/engineer-automate/application-engineering/application-development'}],\n",
       " [{'links': 'https://www.virtusa.com/services/engineer-automate/application-engineering/application-development'},\n",
       "  {'links': 'https://www.virtusa.com/services/consult-and-design/experience-design/design-ops'}],\n",
       " [{'links': 'https://www.virtusa.com/services/analyze-and-optimize/analytics/mlops'},\n",
       "  {'links': 'https://virtusa.com/services/engineer-automate/delivery-transformation/enterprise-devsecops'}],\n",
       " [{'links': 'https://www.virtusa.com/services/engineer-automate/data-engineering/data-modeling'},\n",
       "  {'links': 'https://www.virtusa.com/services/engineer-automate/application-engineering/frontend-engineering'}],\n",
       " [{'links': 'https://www.virtusa.com/services/engineer-automate/cloud/cloud-business-transformation'},\n",
       "  {'links': 'https://www.virtusa.com/services/engineer-automate/enterprise-platforms/salesforce'}],\n",
       " [{'links': 'https://www.virtusa.com/services/engineer-automate/cloud/cloud-business-transformation'},\n",
       "  {'links': 'https://www.virtusa.com/services/engineer-automate/enterprise-platforms/salesforce'}],\n",
       " [{'links': 'https://www.virtusa.com/services/engineer-automate/cloud/cloud-business-transformation'},\n",
       "  {'links': 'https://www.virtusa.com/services/engineer-automate/enterprise-platforms/salesforce'}],\n",
       " [{'links': 'https://www.virtusa.com/services/engineer-automate/enterprise-platforms/salesforce'},\n",
       "  {'links': 'https://virtusa.com/services/engineer-automate/delivery-transformation/enterprise-devsecops'}],\n",
       " [{'links': 'https://www.virtusa.com/services/engineer-automate/cloud/cloud-business-transformation'},\n",
       "  {'links': 'https://www.virtusa.com/services/engineer-automate/enterprise-platforms/sap-services'}],\n",
       " [{'links': 'https://virtusa.com/services/engineer-automate/delivery-transformation/enterprise-devsecops'},\n",
       "  {'links': 'https://www.virtusa.com/services/engineer-automate/enterprise-platforms/salesforce'}]]"
      ]
     },
     "execution_count": 38,
     "metadata": {},
     "output_type": "execute_result"
    }
   ],
   "source": [
    "links = collection.query(query_texts=job['skills'], n_results=2).get('metadatas', [])\n",
    "links"
   ]
  },
  {
   "cell_type": "code",
   "execution_count": 37,
   "id": "8e017a9e-acbb-4ba9-8844-435332ec2225",
   "metadata": {},
   "outputs": [
    {
     "data": {
      "text/plain": [
       "['JavaScript (Node.js, React.js, Vue.js, etc.)',\n",
       " 'Agile processes',\n",
       " 'Continuous integration',\n",
       " 'Test automation',\n",
       " 'AWS CloudFront',\n",
       " 'AWS S3',\n",
       " 'AWS Route 53',\n",
       " 'AWS Certificate Manager',\n",
       " 'AWS Lambda',\n",
       " 'GitHub Co-pilot']"
      ]
     },
     "execution_count": 37,
     "metadata": {},
     "output_type": "execute_result"
    }
   ],
   "source": [
    "job = json_res\n",
    "job['skills']"
   ]
  },
  {
   "cell_type": "code",
   "execution_count": 39,
   "id": "d83a35b4-8bff-4b85-bf2b-d902ceb1ac44",
   "metadata": {},
   "outputs": [
    {
     "name": "stdout",
     "output_type": "stream",
     "text": [
      "Subject: Collaboration Opportunity for Custom Software Development with Virtusa\n",
      "\n",
      "Dear [Hiring Manager's Name],\n",
      "\n",
      "I came across the job description for a Software Engineer I at [Company Name] and was impressed by the exciting projects your team is working on. As a representative of Virtusa, a leading global technology consulting and services company, I'd like to explore potential collaboration opportunities that can help you achieve your goals.\n",
      "\n",
      "Our team at Virtusa specializes in designing, developing, and delivering innovative software solutions that meet the evolving needs of businesses like yours. We noticed that the job description mentions the use of technologies such as Node.js, React.js, Vue.js, AWS CloudFront, AWS S3, and AWS Lambda, which align with our expertise.\n",
      "\n",
      "We'd like to introduce you to our custom software development services, which can help you accelerate your project timelines and reduce costs. Our team can assist with:\n",
      "\n",
      "* Designing and developing internal employee-facing websites and web applications\n",
      "* Implementing Agile processes and continuous integration\n",
      "* Automating testing and deployment using AWS services\n",
      "* Providing 24/7 support and maintenance for your applications\n",
      "\n",
      "To learn more about our services, please visit:\n",
      "\n",
      "* [Virtusa Custom Software Development Services](https://www.virtusa.com/services/custom-software-development)\n",
      "* [Virtusa AWS Services](https://www.virtusa.com/services/aws-services)\n",
      "\n",
      "If you're interested in exploring how Virtusa can help you with your software development projects, I'd be happy to schedule a call to discuss further. Please let me know if you'd like to receive more information or set up a meeting.\n",
      "\n",
      "Best regards,\n",
      "\n",
      "[Your Name]\n",
      "Virtusa Corporation\n",
      "[Your Email Address]\n",
      "[Your Phone Number]\n"
     ]
    }
   ],
   "source": [
    "prompt_email = PromptTemplate.from_template(\n",
    "        \"\"\"\n",
    "        ### JOB DESCRIPTION:\n",
    "        {job_description}\n",
    "        \n",
    "        ### INSTRUCTION:\n",
    "        Generating an cold email where we can find projects for virtusa by passing job description and links to virtusa services.\n",
    "        \n",
    "        \"\"\"\n",
    "        )\n",
    "\n",
    "chain_email = prompt_email | llm\n",
    "res = chain_email.invoke({\"job_description\": str(job), \"link_list\": links})\n",
    "print(res.content)"
   ]
  }
 ],
 "metadata": {
  "kernelspec": {
   "display_name": "Python 3 (ipykernel)",
   "language": "python",
   "name": "python3"
  },
  "language_info": {
   "codemirror_mode": {
    "name": "ipython",
    "version": 3
   },
   "file_extension": ".py",
   "mimetype": "text/x-python",
   "name": "python",
   "nbconvert_exporter": "python",
   "pygments_lexer": "ipython3",
   "version": "3.12.6"
  }
 },
 "nbformat": 4,
 "nbformat_minor": 5
}
